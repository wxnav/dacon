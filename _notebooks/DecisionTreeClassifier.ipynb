{
 "cells": [
  {
   "cell_type": "markdown",
   "id": "84e383aa-91d4-4efa-92e9-9671303e7b66",
   "metadata": {
    "tags": []
   },
   "source": [
    "# DecisionTreeClassifier"
   ]
  },
  {
   "cell_type": "code",
   "execution_count": null,
   "id": "1d50e9a6-8ab8-4113-81ad-03d51d97b62e",
   "metadata": {},
   "outputs": [],
   "source": [
    "`-` (1)"
   ]
  },
  {
   "cell_type": "markdown",
   "id": "cf6593f4-3982-4901-bde2-fff546c732c0",
   "metadata": {},
   "source": [
    "### **EDA(Exploratory Data Analysis)**"
   ]
  },
  {
   "cell_type": "markdown",
   "id": "ab118af5-20ce-40c3-8c84-ec009b39465d",
   "metadata": {},
   "source": [
    "#### `-` 라이브러리 불러오기\n",
    "import \"라이브러리\" as \"사용할 이름\""
   ]
  },
  {
   "cell_type": "markdown",
   "id": "5a09e10d-0026-4a60-8343-090c800f7a29",
   "metadata": {},
   "source": [
    "#### `-` 파일 불러오기\n",
    "import pandas as pd\n",
    "\n",
    "data = pd.read_csv(\"파일 경로/ 파일 이름.csv\")"
   ]
  },
  {
   "cell_type": "markdown",
   "id": "982b5c38-8e1d-4d46-ab52-992455259ae2",
   "metadata": {},
   "source": [
    "#### `-` 행, 열 개수 관찰하기\n",
    "df.shape"
   ]
  },
  {
   "cell_type": "markdown",
   "id": "9d1f85b3-d763-489c-9c47-dbcf942fb5c6",
   "metadata": {},
   "source": [
    "#### `-` 데이터 확인하기\n",
    "import pandas as pd\n",
    "\n",
    "df = pd.read_csv('data/df.csv')\n",
    "\n",
    "df.head() #상단 5개 행 출력\n",
    "\n",
    "df.tail() #하단 5개 행 출력"
   ]
  },
  {
   "cell_type": "markdown",
   "id": "a2f78d22-5765-427c-94b5-29a40b94be2f",
   "metadata": {},
   "source": [
    "#### `-` 결측치 확인하기\n",
    "df.isnull() : 데이터가 NaN인 경우 True\n",
    "\n",
    "df.isnull().sum() : 데이터프레임의 각 열 별 결측치의 수"
   ]
  },
  {
   "cell_type": "markdown",
   "id": "f359bcb2-578e-4ce4-9d5e-89cbd14ac21c",
   "metadata": {},
   "source": [
    "### **전처리**"
   ]
  },
  {
   "cell_type": "markdown",
   "id": "91659416-3df3-4636-ae8b-6bd8fb5a939e",
   "metadata": {},
   "source": [
    "#### `-` 데이터 기본 정보 확인\n",
    "df.info() : 피쳐들의 기본 정보(결측치, 데이터 타입 등) 확인"
   ]
  },
  {
   "cell_type": "markdown",
   "id": "62d8905e-611e-4c75-b63e-3e6793555962",
   "metadata": {},
   "source": [
    "#### `-` 결측치 삭제, 대체\n",
    "df.dropna() : 결측치 삭제\n",
    "\n",
    "df.fillna() : 결측치 인자값 대체"
   ]
  },
  {
   "cell_type": "markdown",
   "id": "5d4c1335-8290-4990-981c-0da009e8fc35",
   "metadata": {},
   "source": [
    "### **모델링**"
   ]
  },
  {
   "cell_type": "markdown",
   "id": "fa667bfd-3a75-4dbe-a431-1ae73e0dc782",
   "metadata": {},
   "source": [
    "#### `-` scikit-learn"
   ]
  },
  {
   "cell_type": "code",
   "execution_count": 1,
   "id": "36a3b7ad-d9e8-4c51-9607-182b03889e7c",
   "metadata": {},
   "outputs": [],
   "source": [
    "import sklearn\n",
    "from sklearn.tree import DecisionTreeClassifier"
   ]
  },
  {
   "cell_type": "markdown",
   "id": "50953c8a-662e-44f0-aa7d-c24c1f71456a",
   "metadata": {},
   "source": [
    "#### `-` 의사결정나무 모델\n",
    "**노드** : 훈련 데이터의 특성에 대한 테스트 표현\n",
    "\n",
    "**이진분할** : 하나의 피쳐를 정해 해당 피쳐의 값에 대해 특정한 하나의 값을 정한다면, 이를 기준으로 모든 행을 두 개의 노드로 분류 (특정한 두 개의 값을 정한다면 삼진분할)\n",
    "\n",
    "**원리** : 파생된 두 개의 노드에 대해서 또 다시 새로운 피쳐의 특정한 값을 정하고 분류를 진행하고, 이 과정을 반복하게 되면 점차 피쳐의 값에 따라 data 들이 분류"
   ]
  },
  {
   "cell_type": "code",
   "execution_count": 2,
   "id": "17dadf38-7dcd-426a-b0f2-8652880b7baa",
   "metadata": {},
   "outputs": [],
   "source": [
    "import sklearn\n",
    "from sklearn.tree import DecisionTreeClassifier"
   ]
  },
  {
   "cell_type": "markdown",
   "id": "b43d4c85-f505-4bfd-8d1a-0f39d12736e7",
   "metadata": {},
   "source": [
    "#### `-` 모델 훈련\n",
    "X : 예측 변수\n",
    "\n",
    "Y : 반응 변수"
   ]
  },
  {
   "cell_type": "markdown",
   "id": "3a60dffb-4625-4f95-bab8-0f914226034b",
   "metadata": {},
   "source": [
    "X_train = train.drop(['제외할 열'], axis=1)\n",
    "\n",
    "Y_train = train['예측할 열']\n",
    "\n",
    "model = DecistionRegressor()\n",
    "\n",
    "model.fit(X_train, Y_train)"
   ]
  },
  {
   "cell_type": "markdown",
   "id": "5c546a85-f726-4863-aafb-9f98e14abb38",
   "metadata": {},
   "source": [
    "#### `-` 테스트 예측\n",
    "할당할 array = model.predict(data)"
   ]
  },
  {
   "cell_type": "markdown",
   "id": "4d5637af-2d52-421f-b12a-6dedf39e7b3c",
   "metadata": {},
   "source": [
    "#### `-` 복습\n",
    "\n",
    "* 라이브러리 불러오기 import\n",
    "* 데이터 불러오기 read_csv()\n",
    "* 데이터 정보 관찰하기 head()\n",
    "* 데이터 행열 개수 관찰 shape\n",
    "* 결측치 확인 info()\n",
    "* 결측치 전처리 dropna(), fillna()\n",
    "* 모델 훈련 fit()\n",
    "* 테스트 파일 예측 predict()\n",
    "* submission 파일 생성 to_csv()"
   ]
  }
 ],
 "metadata": {
  "kernelspec": {
   "display_name": "Python 3 (ipykernel)",
   "language": "python",
   "name": "python3"
  },
  "language_info": {
   "codemirror_mode": {
    "name": "ipython",
    "version": 3
   },
   "file_extension": ".py",
   "mimetype": "text/x-python",
   "name": "python",
   "nbconvert_exporter": "python",
   "pygments_lexer": "ipython3",
   "version": "3.8.12"
  }
 },
 "nbformat": 4,
 "nbformat_minor": 5
}
